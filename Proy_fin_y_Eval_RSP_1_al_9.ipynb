{
  "cells": [
    {
      "cell_type": "markdown",
      "metadata": {
        "id": "view-in-github",
        "colab_type": "text"
      },
      "source": [
        "<a href=\"https://colab.research.google.com/github/RSDLP/RSDLP/blob/main/Proy_fin_y_Eval_RSP_1_al_9.ipynb\" target=\"_parent\"><img src=\"https://colab.research.google.com/assets/colab-badge.svg\" alt=\"Open In Colab\"/></a>"
      ]
    },
    {
      "cell_type": "code",
      "execution_count": null,
      "metadata": {
        "id": "4UyUUXeKRvhh"
      },
      "outputs": [],
      "source": [
        "#Aquí para importar librerías, de ser necesario.\n"
      ]
    },
    {
      "cell_type": "code",
      "execution_count": 1,
      "metadata": {
        "id": "3nShED7JxKMG"
      },
      "outputs": [],
      "source": [
        "import os\n",
        "import math\n",
        "import numpy\n",
        "import random\n",
        "import matplotlib.pyplot as plt\n"
      ]
    },
    {
      "cell_type": "markdown",
      "metadata": {
        "id": "y3KBmfEtR0ak"
      },
      "source": [
        "# Práctica 1: Conociendo Python\n",
        "\n",
        "1. ¿Qué es python? (2 puntos)\n",
        "Respuesta: \n",
        "Python es un lenguaje de programación de alto nivel que se utiliza para desarrollar aplicaciones de todo tipo. \n",
        "A diferencia de otros lenguajes como Java o .NET, se trata de un lenguaje interpretado, es decir, que no es necesario compilarlo para ejecutar las aplicaciones escritas en Python, sino que se ejecutan directamente por el ordenador utilizando un programa denominado interpretador, por lo que no es necesario “traducirlo” a lenguaje máquina.\n",
        "Es un lenguaje de alto nivel de programación interpretado cuya filosofía hace hincapié en la legibilidad de su código, se utiliza para desarrollar aplicaciones de todo tipo, ejemplos: Instagram, Netflix y Spotify entre otros.\n",
        "Se trata de un lenguaje de programación multiparadigma, ya que soporta parcialmente la orientación a objetos, programación imperativa y, en menor medida, programación funcional. \n",
        "Es un lenguaje interpretado, dinámico y multiplataforma.\n",
        "Administrado por Python Software Foundation, posee una licencia de código abierto, denominada Python Software Foundation License.3​ Python se clasifica constantemente como uno de los lenguajes de programación más populares.\n",
        "\n",
        "2. ¿Es multiplataforma en que sistemas operativos funciona ? (2 puntos)\n",
        "Respuesta: \n",
        "Es compatible con Windows, LINUX/UNIX & Mac OS X. \n",
        "\n",
        "El software multiplataforma puede dividirse en dos grandes tipos o clases: uno requiere una compilación individual para cada plataforma que le da soporte, y el otro se puede ejecutar directamente en cualquier plataforma, sin preparación especial, por ejemplo, el software escrito en un lenguaje interpretado o bytecode precompilado portable, para los cuales los intérpretes o paquetes en tiempo de ejecución son componentes comunes o estándar de todas las plataformas.\n",
        "\n",
        "Por ejemplo, una aplicación multiplataforma puede ejecutarse sin problema alguno, tanto en Microsoft Windows en la arquitectura x86, como en Linux en la arquitectura x86 y Mac OS X, ya sea en el PowerPC o sistemas Apple Macintosh basados en x86. En general, una aplicación multiplataforma se puede ejecutar tanto en todas las plataformas existentes o como mínimo dos plataformas.\n"
      ]
    },
    {
      "cell_type": "code",
      "execution_count": null,
      "metadata": {
        "colab": {
          "base_uri": "https://localhost:8080/"
        },
        "id": "YmlJqY4cSI8e",
        "outputId": "03c8a277-dea4-4d6c-e807-9065cf90ee0c"
      },
      "outputs": [
        {
          "name": "stdout",
          "output_type": "stream",
          "text": [
            "Escriba su nombre, por favor Roberto\n",
            "Hola Roberto ¿cómo estás?\n"
          ]
        }
      ],
      "source": [
        "#3. Ejercicio 1 (2 puntos)\n",
        "#Escribir un programa que pregunte al usuario su nombre, y luego lo salude.\n",
        "\n",
        "saludo = input(\"Escriba su nombre, por favor \" )\n",
        "print(\"Hola\", saludo, \"¿cómo estás?\")\n",
        "  "
      ]
    },
    {
      "cell_type": "markdown",
      "metadata": {
        "id": "WuSWVix3SLhz"
      },
      "source": [
        "# Práctica 2. Números enteros y reales."
      ]
    },
    {
      "cell_type": "code",
      "execution_count": null,
      "metadata": {
        "colab": {
          "base_uri": "https://localhost:8080/",
          "height": 53
        },
        "id": "jASkVG3YSphp",
        "outputId": "cffb10ed-09c9-4e45-8d52-9e6dbb40d5ac"
      },
      "outputs": [
        {
          "data": {
            "application/vnd.google.colaboratory.intrinsic+json": {
              "type": "string"
            },
            "text/plain": [
              "'2.1 Ejercicio 1 (1.5 puntos)\\nEscribir un programa que convierta un valor dado en grados Fahrenheit a grados\\nCelsius. Recordar que la fórmula para la conversión es:\\n  Celcius = (Fahrenheit - 32)*5/9'"
            ]
          },
          "execution_count": 3,
          "metadata": {},
          "output_type": "execute_result"
        }
      ],
      "source": [
        "\"\"\"2.1 Ejercicio 1 (1.5 puntos)\n",
        "Escribir un programa que convierta un valor dado en grados Fahrenheit a grados\n",
        "Celsius. Recordar que la fórmula para la conversión es:\n",
        "  Celcius = (Fahrenheit - 32)*5/9\"\"\"\n"
      ]
    },
    {
      "cell_type": "code",
      "execution_count": null,
      "metadata": {
        "colab": {
          "base_uri": "https://localhost:8080/"
        },
        "id": "_idpe82C2AV7",
        "outputId": "c9abf45a-145a-441f-b8d5-f2aea2c08229"
      },
      "outputs": [
        {
          "name": "stdout",
          "output_type": "stream",
          "text": [
            "Ingrese la cantidad de grados Farenheit a convertir: 99\n",
            "F grados Fharenheit equivalen a  37.22222222222222  grados Celsius.\n"
          ]
        },
        {
          "data": {
            "text/plain": [
              "(None,)"
            ]
          },
          "execution_count": 5,
          "metadata": {},
          "output_type": "execute_result"
        }
      ],
      "source": [
        "F = int (input(\"Ingrese la cantidad de grados Farenheit a convertir: \")) \n",
        "C = (F - 32) * (5/9)\n",
        "print(\"F grados Fharenheit equivalen a \" ,C, \" grados Celsius.\"),"
      ]
    },
    {
      "cell_type": "code",
      "execution_count": null,
      "metadata": {
        "colab": {
          "base_uri": "https://localhost:8080/",
          "height": 35
        },
        "id": "bERaqSuyTCVG",
        "outputId": "3e0d679a-2e61-4cc8-eeb9-becf355811c7"
      },
      "outputs": [
        {
          "data": {
            "application/vnd.google.colaboratory.intrinsic+json": {
              "type": "string"
            },
            "text/plain": [
              "'2.2 Ejercicio 2 (1.5 puntos)\\nDados dos números, mostrar la suma, resta, división y multiplicación de ambos.'"
            ]
          },
          "execution_count": 21,
          "metadata": {},
          "output_type": "execute_result"
        }
      ],
      "source": [
        "\"\"\"2.2 Ejercicio 2 (1.5 puntos)\n",
        "Dados dos números, mostrar la suma, resta, división y multiplicación de ambos.\"\"\"\n"
      ]
    },
    {
      "cell_type": "code",
      "execution_count": null,
      "metadata": {
        "colab": {
          "base_uri": "https://localhost:8080/"
        },
        "id": "SVPnVLBrCO3C",
        "outputId": "ad420596-6952-4ca5-9055-fc1d24c178fa"
      },
      "outputs": [
        {
          "name": "stdout",
          "output_type": "stream",
          "text": [
            "12 6 27 3.0\n"
          ]
        }
      ],
      "source": [
        "x = 9\n",
        "y = 3\n",
        "r1 = x + y\n",
        "r2 = x - y\n",
        "r3 = x * y\n",
        "r4 = x / y\n",
        "print(r1,r2,r3,r4)\n"
      ]
    },
    {
      "cell_type": "code",
      "execution_count": null,
      "metadata": {
        "colab": {
          "base_uri": "https://localhost:8080/",
          "height": 35
        },
        "id": "GtgvyEJTTCYZ",
        "outputId": "7098e10e-e46d-4a2d-c0c8-2101a08595dd"
      },
      "outputs": [
        {
          "data": {
            "application/vnd.google.colaboratory.intrinsic+json": {
              "type": "string"
            },
            "text/plain": [
              "'2.3 Ejercicio 3 (1.5 puntos)\\nCalcular el perímetro y área de un rectángulo dada su base y su altura.'"
            ]
          },
          "execution_count": 23,
          "metadata": {},
          "output_type": "execute_result"
        }
      ],
      "source": [
        " \"\"\"2.3 Ejercicio 3 (1.5 puntos)\n",
        "Calcular el perímetro y área de un rectángulo dada su base y su altura.\"\"\"\n"
      ]
    },
    {
      "cell_type": "code",
      "execution_count": null,
      "metadata": {
        "colab": {
          "base_uri": "https://localhost:8080/"
        },
        "id": "Bp_uQDVEFx_u",
        "outputId": "7f933bd4-9a75-4dc7-9e79-83f4349d5f91"
      },
      "outputs": [
        {
          "name": "stdout",
          "output_type": "stream",
          "text": [
            "20\n",
            "24\n"
          ]
        }
      ],
      "source": [
        "b = 4\n",
        "h = 6\n",
        "\n",
        "perimetro = b*2+h*2\n",
        "print(perimetro)\n",
        "area = (b*h)\n",
        "print(area)\n"
      ]
    },
    {
      "cell_type": "code",
      "execution_count": null,
      "metadata": {
        "colab": {
          "base_uri": "https://localhost:8080/",
          "height": 35
        },
        "id": "hMv4lXN0TCbT",
        "outputId": "b554a9fd-e1f2-4b24-9c6d-8cd5213d484a"
      },
      "outputs": [
        {
          "data": {
            "application/vnd.google.colaboratory.intrinsic+json": {
              "type": "string"
            },
            "text/plain": [
              "'2.4 Ejercicio 4 (1.5 puntos)\\nCalcular la media de tres números pedidos por teclado.'"
            ]
          },
          "execution_count": 25,
          "metadata": {},
          "output_type": "execute_result"
        }
      ],
      "source": [
        "\"\"\"2.4 Ejercicio 4 (1.5 puntos)\n",
        "Calcular la media de tres números pedidos por teclado.\"\"\"\n"
      ]
    },
    {
      "cell_type": "code",
      "execution_count": null,
      "metadata": {
        "colab": {
          "base_uri": "https://localhost:8080/"
        },
        "id": "zgB3WPC9YkMp",
        "outputId": "9a6ee7e1-458d-4db7-c11d-561c913021d3"
      },
      "outputs": [
        {
          "name": "stdout",
          "output_type": "stream",
          "text": [
            "Introduzca el primer número, por favor: 3\n",
            "Introduzca el segundo número, por favor: 6\n",
            "Introduzca el tercer número, por favor: 9\n",
            "El promedio de los tres números es:  123.0\n"
          ]
        }
      ],
      "source": [
        "n1 = input(\"Introduzca el primer número, por favor: \")\n",
        "n2 = input(\"Introduzca el segundo número, por favor: \")\n",
        "n3 = input(\"Introduzca el tercer número, por favor: \")\n",
        "a = int(n1 + n2 + n3)\n",
        "b = 3\n",
        "promedio = a/b\n",
        "print(\"El promedio de los tres números es: \", promedio)\n"
      ]
    },
    {
      "cell_type": "markdown",
      "metadata": {
        "id": "qI5_qcGxT1YE"
      },
      "source": [
        "# Práctica 4.Tipos de colección de datos"
      ]
    },
    {
      "cell_type": "code",
      "execution_count": null,
      "metadata": {
        "colab": {
          "base_uri": "https://localhost:8080/",
          "height": 53
        },
        "id": "vj_HssdKTV12",
        "outputId": "abdeb807-031a-4658-c314-88dc696cea46"
      },
      "outputs": [
        {
          "data": {
            "application/vnd.google.colaboratory.intrinsic+json": {
              "type": "string"
            },
            "text/plain": [
              "'4.1 Ejercicio 1(1.2 puntos)\\nRealizar un programa que inicialice una lista con 10 valores aleatorios (del 1 al 10)\\ny posteriormente muestre en pantalla cada elemento de la lista junto con su\\ncuadrado y su cubo.'"
            ]
          },
          "execution_count": 46,
          "metadata": {},
          "output_type": "execute_result"
        }
      ],
      "source": [
        "\"\"\"4.1 Ejercicio 1(1.2 puntos)\n",
        "Realizar un programa que inicialice una lista con 10 valores aleatorios (del 1 al 10)\n",
        "y posteriormente muestre en pantalla cada elemento de la lista junto con su\n",
        "cuadrado y su cubo.\"\"\"\n"
      ]
    },
    {
      "cell_type": "code",
      "execution_count": null,
      "metadata": {
        "id": "aTef-eEvcs1u",
        "colab": {
          "base_uri": "https://localhost:8080/"
        },
        "outputId": "9e0feffc-d74d-4f7d-fdf9-c671b5cfe4db"
      },
      "outputs": [
        {
          "output_type": "execute_result",
          "data": {
            "text/plain": [
              "[4, 10, 5, 6, 2, 9, 2, 2, 1, 4]"
            ]
          },
          "metadata": {},
          "execution_count": 15
        }
      ],
      "source": [
        "l1 = [random.randint(0,10) for i in range (10)]\n",
        "l1"
      ]
    },
    {
      "cell_type": "code",
      "execution_count": null,
      "metadata": {
        "colab": {
          "base_uri": "https://localhost:8080/"
        },
        "id": "IQfYj2c8naZp",
        "outputId": "0c7f1f3a-3c88-4b5a-cb8c-ed46776f23c7"
      },
      "outputs": [
        {
          "output_type": "stream",
          "name": "stdout",
          "text": [
            "16 100 25 36 4 81 4 4 1 16\n",
            "64 1000 125 216 8 729 8 8 1 64\n"
          ]
        }
      ],
      "source": [
        "print(l1[0]**2, l1[1]**2, l1[2]**2, l1[3]**2, l1[4]**2, l1[5]**2, l1[6]**2, l1[7]**2, l1[8]**2, l1[9]**2)\n",
        "print(l1[0]**3, l1[1]**3, l1[2]**3, l1[3]**3, l1[4]**3, l1[5]**3, l1[6]**3, l1[7]**3, l1[8]**3, l1[9]**3)"
      ]
    },
    {
      "cell_type": "code",
      "execution_count": null,
      "metadata": {
        "id": "RX3aExx3UGCp"
      },
      "outputs": [],
      "source": [
        "\"\"\"4.2 Ejercicio 2 (1.2 puntos)\n",
        "Crea una lista e inicializarla con 5 cadenas de caracteres leídas por teclado. Copia\n",
        "los elementos de la lista en otra lista pero en orden inverso, y muestra sus\n",
        "elementos por la pantalla.\"\"\"\n"
      ]
    },
    {
      "cell_type": "code",
      "source": [
        "ListaI=[]\n",
        "L1 = input(\"Introduzca el primero de cinco caracteres para construir una lista que será integrada por esos mismos elementos:\")\n",
        "L2 = input(\"Introduzca el segundo de cinco caracteres para construir una lista que será integrada por esos mismos elementos:\")\n",
        "L3 = input(\"Introduzca el tercero de cinco caracteres para construir una lista que será integrada por esos mismos elementos:\")\n",
        "L4 = input(\"Introduzca el cuarto de cinco caracteres para construir una lista que será integrada por esos mismos elementos:\")\n",
        "L5 = input(\"Introduzca el quinto de cinco caracteres para construir una lista que será integrada por esos mismos elementos:\")\n",
        "ListaI = [L5,L4,L3,L2,L1]\n",
        "print(ListaI)\n",
        "print(ListaI[::-1])"
      ],
      "metadata": {
        "colab": {
          "base_uri": "https://localhost:8080/"
        },
        "id": "nQzwb7bDtP0n",
        "outputId": "746ec48b-e364-476f-db94-c99e8c5df165"
      },
      "execution_count": null,
      "outputs": [
        {
          "output_type": "stream",
          "name": "stdout",
          "text": [
            "Introduzca el primero de cinco caracteres para construir una lista que será integrada por esos mismos elementos:a\n",
            "Introduzca el segundo de cinco caracteres para construir una lista que será integrada por esos mismos elementos:b\n",
            "Introduzca el tercero de cinco caracteres para construir una lista que será integrada por esos mismos elementos:c\n",
            "Introduzca el cuarto de cinco caracteres para construir una lista que será integrada por esos mismos elementos:d\n",
            "Introduzca el quinto de cinco caracteres para construir una lista que será integrada por esos mismos elementos:e\n",
            "['e', 'd', 'c', 'b', 'a']\n",
            "['a', 'b', 'c', 'd', 'e']\n"
          ]
        }
      ]
    },
    {
      "cell_type": "code",
      "execution_count": null,
      "metadata": {
        "colab": {
          "base_uri": "https://localhost:8080/"
        },
        "id": "wYGCMSTNQUvi",
        "outputId": "966472fe-97aa-4e0f-8910-113eb63ac9b0"
      },
      "outputs": [
        {
          "output_type": "stream",
          "name": "stdout",
          "text": [
            "Introduzca el primero de cinco caracteres para construir una lista que será integrada por esos mismos elementos:z\n",
            "Introduzca el segundo de cinco caracteres para construir una lista que será integrada por esos mismos elementos:y\n",
            "Introduzca el tercero de cinco caracteres para construir una lista que será integrada por esos mismos elementos:x\n",
            "Introduzca el cuarto de cinco caracteres para construir una lista que será integrada por esos mismos elementos:w\n",
            "Introduzca el quinto de cinco caracteres para construir una lista que será integrada por esos mismos elementos:v\n",
            "['z', 'y', 'x', 'w', 'v']\n",
            "['v', 'w', 'x', 'y', 'z']\n"
          ]
        }
      ],
      "source": [
        "LI = []\n",
        "LI.append(input(\"Introduzca el primero de cinco caracteres para construir una lista que será integrada por esos mismos elementos:\"))\n",
        "LI.append(input(\"Introduzca el segundo de cinco caracteres para construir una lista que será integrada por esos mismos elementos:\"))\n",
        "LI.append(input(\"Introduzca el tercero de cinco caracteres para construir una lista que será integrada por esos mismos elementos:\"))\n",
        "LI.append(input(\"Introduzca el cuarto de cinco caracteres para construir una lista que será integrada por esos mismos elementos:\"))\n",
        "LI.append(input(\"Introduzca el quinto de cinco caracteres para construir una lista que será integrada por esos mismos elementos:\"))\n",
        "print(LI)\n",
        "print(LI[::-1])\n"
      ]
    },
    {
      "cell_type": "code",
      "source": [
        "LI = []\n",
        "for i in range(0, 5):\n",
        "  LI.append(input(\"Introduzca el primero de cinco caracteres para construir una lista que será integrada por esos mismos elementos:\"))\n",
        "print(LI)\n",
        "print(LI[::-1])"
      ],
      "metadata": {
        "colab": {
          "base_uri": "https://localhost:8080/"
        },
        "id": "j5jyVHJawUxY",
        "outputId": "027ac88c-d64c-43cf-dd51-0d846129ead5"
      },
      "execution_count": null,
      "outputs": [
        {
          "output_type": "stream",
          "name": "stdout",
          "text": [
            "Introduzca el primero de cinco caracteres para construir una lista que será integrada por esos mismos elementos:z\n",
            "Introduzca el primero de cinco caracteres para construir una lista que será integrada por esos mismos elementos:y\n",
            "Introduzca el primero de cinco caracteres para construir una lista que será integrada por esos mismos elementos:x\n",
            "Introduzca el primero de cinco caracteres para construir una lista que será integrada por esos mismos elementos:w\n",
            "Introduzca el primero de cinco caracteres para construir una lista que será integrada por esos mismos elementos:v\n",
            "['z', 'y', 'x', 'w', 'v']\n",
            "['v', 'w', 'x', 'y', 'z']\n"
          ]
        }
      ]
    },
    {
      "cell_type": "code",
      "execution_count": null,
      "metadata": {
        "colab": {
          "base_uri": "https://localhost:8080/",
          "height": 53
        },
        "id": "F-8iGe7VUGFa",
        "outputId": "589d077f-7632-4b99-c7df-33300a6109b1"
      },
      "outputs": [
        {
          "data": {
            "application/vnd.google.colaboratory.intrinsic+json": {
              "type": "string"
            },
            "text/plain": [
              "'4.3 Ejercicio 3 (1.2 puntos)\\nSe quiere realizar un programa que lea por teclado las 5 notas obtenidas por un\\nalumno (comprendidas entre 0 y 10). A continuación debe mostrar todas las notas,\\nla nota media, la nota más alta que ha sacado y la menor.'"
            ]
          },
          "execution_count": 6,
          "metadata": {},
          "output_type": "execute_result"
        }
      ],
      "source": [
        "\"\"\"4.3 Ejercicio 3 (1.2 puntos)\n",
        "Se quiere realizar un programa que lea por teclado las 5 notas obtenidas por un\n",
        "alumno (comprendidas entre 0 y 10). A continuación debe mostrar todas las notas,\n",
        "la nota media, la nota más alta que ha sacado y la menor.\"\"\"\n"
      ]
    },
    {
      "cell_type": "code",
      "execution_count": null,
      "metadata": {
        "colab": {
          "base_uri": "https://localhost:8080/"
        },
        "id": "5deh2O1tWjyv",
        "outputId": "be8e5a1f-6a4a-42b1-ce99-5bb943cf00be"
      },
      "outputs": [
        {
          "name": "stdout",
          "output_type": "stream",
          "text": [
            "La primera calificación es: 9\n",
            "La segunda calificación es: 8\n",
            "La tercera calificación es: 9\n",
            "La cuarta calificación es: 9\n",
            "La quinta calificación es: 8\n"
          ]
        }
      ],
      "source": [
        "Calif = [] in range (0,10)\n",
        "C1 = int(input(\"La primera calificación es: \"))\n",
        "C2 = int(input(\"La segunda calificación es: \"))\n",
        "C3 = int(input(\"La tercera calificación es: \"))\n",
        "C4 = int(input(\"La cuarta calificación es: \"))\n",
        "C5 = int(input(\"La quinta calificación es: \"))\n",
        "Calificaciones=[C1, C2, C3, C4, C5]"
      ]
    },
    {
      "cell_type": "code",
      "execution_count": null,
      "metadata": {
        "colab": {
          "base_uri": "https://localhost:8080/"
        },
        "id": "x7unog1nWyPo",
        "outputId": "e74f7d54-d3b4-4f87-e5c4-a963ec9728a4"
      },
      "outputs": [
        {
          "name": "stdout",
          "output_type": "stream",
          "text": [
            "Las calificaciones son:  [9, 8, 9, 9, 8]\n",
            "Las notas más alta y la más baja, respectivamente, son: 9 y 8\n",
            "Por otra parte, el promedio es:  8.6\n"
          ]
        }
      ],
      "source": [
        "print(\"Las calificaciones son: \", [C1, C2, C3, C4, C5])\n",
        "print(\"Las notas más alta y la más baja, respectivamente, son:\", max(Calificaciones), \"y\", min(Calificaciones))\n",
        "print(\"Por otra parte, el promedio es: \", sum(Calificaciones)/len(Calificaciones))\n"
      ]
    },
    {
      "cell_type": "code",
      "execution_count": null,
      "metadata": {
        "colab": {
          "base_uri": "https://localhost:8080/",
          "height": 105
        },
        "id": "Don0MektUp9y",
        "outputId": "7682a5b4-223a-40f4-abd0-e5e82342e860"
      },
      "outputs": [
        {
          "data": {
            "application/vnd.google.colaboratory.intrinsic+json": {
              "type": "string"
            },
            "text/plain": [
              "'4.4 Ejercicio 4 (1.2 puntos) \\nCodifica un programa en python que nos permita guardar los nombres de los\\nalumnos de una clase y las notas que han obtenido. Cada alumno puede tener\\ndistinta cantidad de notas. Guarda la información en un diccionario cuya claves\\nserán los nombres de los alumnos y los valores serán listados con las notas de\\ncada alumno.\\nEl programa pedirá el número de alumnos que vamos a introducir, pedirá su\\nnombre e irá pidiendo sus notas hasta que introduzcamos un número negativo. Al\\nfinal el programa nos mostrará la lista de alumnos y la nota media obtenida por\\ncada uno de ellos. Nota: si se introduce el nombre de un alumno que ya existe el\\nprograma nos dará un error.'"
            ]
          },
          "execution_count": 4,
          "metadata": {},
          "output_type": "execute_result"
        }
      ],
      "source": [
        "\"\"\"4.4 Ejercicio 4 (1.2 puntos) \n",
        "Codifica un programa en python que nos permita guardar los nombres de los\n",
        "alumnos de una clase y las notas que han obtenido. Cada alumno puede tener\n",
        "distinta cantidad de notas. Guarda la información en un diccionario cuya claves\n",
        "serán los nombres de los alumnos y los valores serán listados con las notas de\n",
        "cada alumno.\n",
        "El programa pedirá el número de alumnos que vamos a introducir, pedirá su\n",
        "nombre e irá pidiendo sus notas hasta que introduzcamos un número negativo. Al\n",
        "final el programa nos mostrará la lista de alumnos y la nota media obtenida por\n",
        "cada uno de ellos. Nota: si se introduce el nombre de un alumno que ya existe el\n",
        "programa nos dará un error.\"\"\"\n",
        "\n"
      ]
    },
    {
      "cell_type": "code",
      "execution_count": null,
      "metadata": {
        "colab": {
          "base_uri": "https://localhost:8080/"
        },
        "id": "0JHeeGT7piMv",
        "outputId": "c76dc0ba-b149-4630-a0f9-4c43c37c9179"
      },
      "outputs": [
        {
          "output_type": "stream",
          "name": "stdout",
          "text": [
            "Introduce la cantidad de alumnos que integran el grupo:3\n",
            "Nombre del/la alumno(a):jaun\n",
            "Dame una nota del alumno (negativo para terminar):10\n",
            "Dame una nota del alumno (negativo para terminar):-5\n",
            "Nombre del/la alumno(a):jose\n",
            "Dame una nota del alumno (negativo para terminar):10\n",
            "Dame una nota del alumno (negativo para terminar):10\n",
            "Dame una nota del alumno (negativo para terminar):-5\n",
            "Nombre del/la alumno(a):maria\n",
            "Dame una nota del alumno (negativo para terminar):10\n",
            "Dame una nota del alumno (negativo para terminar):10\n",
            "Dame una nota del alumno (negativo para terminar):10\n",
            "Dame una nota del alumno (negativo para terminar):-5\n",
            "jaun   [10]\n",
            "El promedio de calificación de jaun es 10.000000\n",
            "jose   [10, 10]\n",
            "El promedio de calificación de jose es 10.000000\n",
            "maria   [10, 10, 10]\n",
            "El promedio de calificación de maria es 10.000000\n"
          ]
        }
      ],
      "source": [
        "alumnos = {}\n",
        "NumAl = int(input(\"Introduce la cantidad de alumnos que integran el grupo:\"))\n",
        "for num in range(NumAl):\n",
        "    alumno = input(\"Nombre del/la alumno(a):\")\n",
        "    while alumno in alumnos:\n",
        "        print(\"Ya existe.\")\n",
        "        alumno = input(\"Nombre del/la alumno(a):\")\n",
        "\n",
        "    notas=[]\n",
        "    nota = int(input(\"Dame una nota del alumno (negativo para terminar):\"))\n",
        "    while nota > 0:\n",
        "        notas.append(nota)\n",
        "        nota = int(input(\"Dame una nota del alumno (negativo para terminar):\"))\n",
        "    alumnos[alumno] = notas.copy()\n",
        "\n",
        "for alumno, notas in alumnos.items():\n",
        "    #print(alumno, \" \", notas)\n",
        "    print(\"El promedio de calificación de %s es %f\" % (alumno,sum(notas)/len(notas)))\n",
        "\n",
        "\n"
      ]
    },
    {
      "cell_type": "code",
      "source": [
        "alumnos.keys()\n",
        "alumnos.values()\n",
        "alumnos.items()"
      ],
      "metadata": {
        "colab": {
          "base_uri": "https://localhost:8080/"
        },
        "id": "4Ogipvaeota5",
        "outputId": "83ab3141-ed97-400c-c456-99eec66ae65a"
      },
      "execution_count": null,
      "outputs": [
        {
          "output_type": "execute_result",
          "data": {
            "text/plain": [
              "dict_items([('jaun', [10]), ('jose', [10, 10]), ('maria', [10, 10, 10])])"
            ]
          },
          "metadata": {},
          "execution_count": 24
        }
      ]
    },
    {
      "cell_type": "code",
      "execution_count": null,
      "metadata": {
        "colab": {
          "base_uri": "https://localhost:8080/",
          "height": 53
        },
        "id": "2mcy-y0pUqB_",
        "outputId": "0b14f101-bd52-4872-eb8f-c3777cd4bdac"
      },
      "outputs": [
        {
          "data": {
            "application/vnd.google.colaboratory.intrinsic+json": {
              "type": "string"
            },
            "text/plain": [
              "'4.5 Ejercicio 5 (1.2 puntos)\\nCrea una tupla con los meses del año, pide números al usuario, si el número está\\nentre 1 y la longitud máxima de la tupla, muestra el contenido de esa posición sino\\nmuestra un mensaje de error. El programa termina cuando el usuario introduce un\\ncero.'"
            ]
          },
          "execution_count": 2,
          "metadata": {},
          "output_type": "execute_result"
        }
      ],
      "source": [
        "\"\"\"4.5 Ejercicio 5 (1.2 puntos)\n",
        "Crea una tupla con los meses del año, pide números al usuario, si el número está\n",
        "entre 1 y la longitud máxima de la tupla, muestra el contenido de esa posición sino\n",
        "muestra un mensaje de error. El programa termina cuando el usuario introduce un\n",
        "cero.\"\"\"\n"
      ]
    },
    {
      "cell_type": "code",
      "execution_count": null,
      "metadata": {
        "colab": {
          "base_uri": "https://localhost:8080/"
        },
        "id": "Vzwak8TtWghJ",
        "outputId": "d19c508f-fb0d-4f16-fca6-3124d10a5f27"
      },
      "outputs": [
        {
          "name": "stdout",
          "output_type": "stream",
          "text": [
            "Por favor, intriduzca el número que corresponda al mes del año a consultar: 0\n",
            "Ejercicio finalizado.\n"
          ]
        }
      ],
      "source": [
        "meses = (\"enero\", \"febrero\", \"marzo\", \"abril\", \"mayo\", \"junio\", \"julio\", \"agosto\", \"septiembre\", \"octubre\", \"noviembre\", \"diciembre\")\n",
        "\n",
        "salir = False \n",
        "while(not salir):\n",
        "  \n",
        "  numero = int(input(\"Por favor, intriduzca el número que corresponda al mes del año a consultar: \"))\n",
        "  if(numero==0):\n",
        "    salir=True, print(\"Ejercicio finalizado.\")\n",
        "  else: \n",
        "      if (numero>=1 and numero<=len(meses)):\n",
        "        print(meses[numero-1])\n",
        "      else: \n",
        "        print(\"Por favor, escriba un número entre 1 y \",len(meses))\n",
        "\n",
        "\n"
      ]
    },
    {
      "cell_type": "markdown",
      "metadata": {
        "id": "mpSUPnMEU6B0"
      },
      "source": [
        "# 5 Práctica 5. Operadores relacionales. (6 puntos)"
      ]
    },
    {
      "cell_type": "code",
      "execution_count": null,
      "metadata": {
        "colab": {
          "base_uri": "https://localhost:8080/",
          "height": 35
        },
        "id": "ZTWczANvU5su",
        "outputId": "45bf3136-cda2-41f9-e032-22a80fa18a38"
      },
      "outputs": [
        {
          "data": {
            "application/vnd.google.colaboratory.intrinsic+json": {
              "type": "string"
            },
            "text/plain": [
              "'5.1 Ejercicio 1 (2 puntos)\\nPrograma que imprima si el número es positivo o negativo'"
            ]
          },
          "execution_count": 15,
          "metadata": {},
          "output_type": "execute_result"
        }
      ],
      "source": [
        "\"\"\"5.1 Ejercicio 1 (2 puntos)\n",
        "Programa que imprima si el número es positivo o negativo\"\"\"\n"
      ]
    },
    {
      "cell_type": "code",
      "execution_count": null,
      "metadata": {
        "colab": {
          "base_uri": "https://localhost:8080/"
        },
        "id": "6j22jZkIsNbZ",
        "outputId": "756b0ea5-c94c-4ea3-f581-f6870151dbc8"
      },
      "outputs": [
        {
          "name": "stdout",
          "output_type": "stream",
          "text": [
            "Por favor, introduzca un número: 1\n",
            "El número resistrado es positivo.\n"
          ]
        }
      ],
      "source": [
        "numpos=input(\"Por favor, introduzca un número: \")\n",
        "num = int(numpos)\n",
        "if(num>=0): \n",
        "    print(\"El número resistrado es positivo.\")\n",
        "else: \n",
        "    print(\"El número registrado es negativo.\")\n",
        "\n"
      ]
    },
    {
      "cell_type": "code",
      "execution_count": null,
      "metadata": {
        "colab": {
          "base_uri": "https://localhost:8080/"
        },
        "id": "-qL_yqD0w-Q5",
        "outputId": "72b0751f-58f1-4e5e-e333-ab9c4e35f389"
      },
      "outputs": [
        {
          "name": "stdout",
          "output_type": "stream",
          "text": [
            "Por favor, introduzca un número: 1\n",
            "El número es positivo.\n"
          ]
        }
      ],
      "source": [
        "numpos=input(\"Por favor, introduzca un número: \")\n",
        "num = int(numpos)\n",
        "\n",
        "if(num == 0):\n",
        "  print(\"El número es CERO, carece de signo.\")\n",
        "\n",
        "elif(num<0):\n",
        "  print(\"El número es negativo.\")\n",
        "\n",
        "else:\n",
        "  print(\"El número es positivo.\")"
      ]
    },
    {
      "cell_type": "code",
      "execution_count": null,
      "metadata": {
        "colab": {
          "base_uri": "https://localhost:8080/",
          "height": 35
        },
        "id": "jpQiIh4QVBkM",
        "outputId": "8a0fbb78-80ad-4633-a54b-5db144f4cae6"
      },
      "outputs": [
        {
          "data": {
            "application/vnd.google.colaboratory.intrinsic+json": {
              "type": "string"
            },
            "text/plain": [
              "'5.2 Ejercicio 2 (2 puntos)\\nPrograma que imprima si el número ingresado esta en el rango de 1 a 7'"
            ]
          },
          "execution_count": 2,
          "metadata": {},
          "output_type": "execute_result"
        }
      ],
      "source": [
        "\"\"\"5.2 Ejercicio 2 (2 puntos)\n",
        "Programa que imprima si el número ingresado esta en el rango de 1 a 7\"\"\"\n"
      ]
    },
    {
      "cell_type": "code",
      "execution_count": null,
      "metadata": {
        "colab": {
          "base_uri": "https://localhost:8080/"
        },
        "id": "JwbxV5EWs1fd",
        "outputId": "8a739d27-79ff-4e6e-9d78-f144cb75a1c6"
      },
      "outputs": [
        {
          "name": "stdout",
          "output_type": "stream",
          "text": [
            "Por favor, introduzca un número: 1\n",
            "El número está en el rango de 1 a 7.\n"
          ]
        }
      ],
      "source": [
        "numing=input(\"Por favor, introduzca un número: \")\n",
        "num = int(numing)\n",
        "\n",
        "if(num in range (1,7)): \n",
        "  print(\"El número está en el rango de 1 a 7.\")\n",
        "\n",
        "else:\n",
        "  print(\"Introdusca un número que esté en el rango entre 1 y 7, por favor.\")"
      ]
    },
    {
      "cell_type": "code",
      "execution_count": null,
      "metadata": {
        "colab": {
          "base_uri": "https://localhost:8080/",
          "height": 52
        },
        "id": "Jv7eUN2gVBml",
        "outputId": "b41645af-7ea5-405b-c273-9520732b7820"
      },
      "outputs": [
        {
          "data": {
            "application/vnd.google.colaboratory.intrinsic+json": {
              "type": "string"
            },
            "text/plain": [
              "'5.3 Ejercicio 3 (2 puntos)\\nPedir al usuario un monto incial y un interés. Si el interés es menor al 30 por ciento,\\ndecir que no es valido, si no, entonces calcular el monto final como:\\nmonto_final = monto_inicial*(1+interes/100)\\n'"
            ]
          },
          "execution_count": 10,
          "metadata": {},
          "output_type": "execute_result"
        }
      ],
      "source": [
        "\"\"\"5.3 Ejercicio 3 (2 puntos)\n",
        "Pedir al usuario un monto incial y un interés. Si el interés es menor al 30 por ciento,\n",
        "decir que no es valido, si no, entonces calcular el monto final como:\n",
        "monto_final = monto_inicial*(1+interes/100)\n",
        "\"\"\""
      ]
    },
    {
      "cell_type": "code",
      "execution_count": null,
      "metadata": {
        "colab": {
          "base_uri": "https://localhost:8080/"
        },
        "id": "FTgjKusN9B7B",
        "outputId": "ca978b8b-b386-4674-fab5-501df458fafd"
      },
      "outputs": [
        {
          "name": "stdout",
          "output_type": "stream",
          "text": [
            "Por favor, introduzca el monto del préstamo, sin decimales ni comas:10000\n",
            "Por favor, introduzca en decimales, el interés anual:.25\n",
            "El monto a pagar al finalizar el periodo de 12 meses es MXN$: 10025.0\n"
          ]
        }
      ],
      "source": [
        "from io import IncrementalNewlineDecoder\n",
        "prestamo=int(input(\"Por favor, introduzca el monto del préstamo, sin decimales ni comas:\"))\n",
        "inter=float(input(\"Por favor, introduzca en decimales, el interés anual:\"))\n",
        "\n",
        "if(inter <= .30):\n",
        "  print(\"El monto a pagar al finalizar el periodo de 12 meses es MXN$:\", prestamo*(1+inter/100))\n",
        "\n",
        "else:\n",
        "  print(\"No es legal un interés mayor al 30% anual.\")"
      ]
    },
    {
      "cell_type": "markdown",
      "metadata": {
        "id": "0EiTjTmZVQwQ"
      },
      "source": [
        "# 6 Práctica 6. Sentencias condicionales. (6 puntos)"
      ]
    },
    {
      "cell_type": "code",
      "execution_count": null,
      "metadata": {
        "colab": {
          "base_uri": "https://localhost:8080/",
          "height": 35
        },
        "id": "9LLHfOupVBph",
        "outputId": "7c97cd20-3d57-4f37-9cf3-c002870a29e4"
      },
      "outputs": [
        {
          "data": {
            "application/vnd.google.colaboratory.intrinsic+json": {
              "type": "string"
            },
            "text/plain": [
              "'6.1 Ejercicio 1 (1.5 puntos)\\nRealizar un ejemplo de menú, donde podemos escoger las distintas opciones\\nhasta que seleccionamos la opción de “Salir”.'"
            ]
          },
          "execution_count": 14,
          "metadata": {},
          "output_type": "execute_result"
        }
      ],
      "source": [
        "\"\"\"6.1 Ejercicio 1 (1.5 puntos)\n",
        "Realizar un ejemplo de menú, donde podemos escoger las distintas opciones\n",
        "hasta que seleccionamos la opción de “Salir”.\"\"\"\n"
      ]
    },
    {
      "cell_type": "code",
      "execution_count": null,
      "metadata": {
        "colab": {
          "base_uri": "https://localhost:8080/"
        },
        "id": "0MRs3DGWsETK",
        "outputId": "916294af-45e6-4347-b320-41029515842d"
      },
      "outputs": [
        {
          "name": "stdout",
          "output_type": "stream",
          "text": [
            "Bienvenido\n",
            "La opción 1., del menú es carne\n",
            "La opción 2., del menú es pescado\n",
            "La opción 3., del menú es pollo\n",
            "Ingrese el número de su elección y al concluir escriba 'Salir'1\n",
            "Se le servirá carne\n",
            "Bienvenido\n",
            "La opción 1., del menú es carne\n",
            "La opción 2., del menú es pescado\n",
            "La opción 3., del menú es pollo\n",
            "Ingrese el número de su elección y al concluir escriba 'Salir'2\n",
            "Se le servirá pescado\n",
            "Bienvenido\n",
            "La opción 1., del menú es carne\n",
            "La opción 2., del menú es pescado\n",
            "La opción 3., del menú es pollo\n",
            "Ingrese el número de su elección y al concluir escriba 'Salir'3\n",
            "Se le servirá pollo\n",
            "Bienvenido\n",
            "La opción 1., del menú es carne\n",
            "La opción 2., del menú es pescado\n",
            "La opción 3., del menú es pollo\n",
            "Ingrese el número de su elección y al concluir escriba 'Salir'Salir\n"
          ]
        }
      ],
      "source": [
        "salir = True\n",
        "menu = 0 \n",
        "while salir:\n",
        "  print(\"Bienvenido\")\n",
        "  print(\"La opción 1., del menú es carne\")\n",
        "  print(\"La opción 2., del menú es pescado\")\n",
        "  print(\"La opción 3., del menú es pollo\")\n",
        "  elec= (input(\"Ingrese el número de su elección y al concluir escriba 'Salir'\"))\n",
        "  if elec == \"1\":\n",
        "    print(\"Se le servirá carne\")\n",
        "  elif elec == \"2\":\n",
        "    print(\"Se le servirá pescado\")\n",
        "  elif elec == \"3\":\n",
        "    print(\"Se le servirá pollo\")\n",
        "  elif elec == \"Salir\": \n",
        "    salir = False\n",
        "  "
      ]
    },
    {
      "cell_type": "code",
      "execution_count": null,
      "metadata": {
        "colab": {
          "base_uri": "https://localhost:8080/",
          "height": 36
        },
        "id": "SFWiWLiFVV_d",
        "outputId": "87658a38-6206-4182-e1d6-81151b3e7f95"
      },
      "outputs": [
        {
          "data": {
            "application/vnd.google.colaboratory.intrinsic+json": {
              "type": "string"
            },
            "text/plain": [
              "'6.2 Ejercicio 2 (1.5 puntos)\\nMostrar en pantalla los N primero número primos. Se pide por teclado la cantidad\\nde números primos que queremos mostrar.'"
            ]
          },
          "execution_count": 75,
          "metadata": {},
          "output_type": "execute_result"
        }
      ],
      "source": [
        "\"\"\"6.2 Ejercicio 2 (1.5 puntos)\n",
        "Mostrar en pantalla los N primero número primos. Se pide por teclado la cantidad\n",
        "de números primos que queremos mostrar.\"\"\"\n"
      ]
    },
    {
      "cell_type": "code",
      "execution_count": null,
      "metadata": {
        "colab": {
          "base_uri": "https://localhost:8080/"
        },
        "id": "xK6AFOYgNbTB",
        "outputId": "f73e478d-0d44-4534-c425-f297a06b01a5"
      },
      "outputs": [
        {
          "name": "stdout",
          "output_type": "stream",
          "text": [
            "Escriba, por favor, un número: 8\n",
            "2\n",
            "3\n",
            "5\n",
            "7\n",
            "11\n",
            "13\n",
            "17\n",
            "19\n"
          ]
        }
      ],
      "source": [
        "n = int(input(\"Escriba, por favor, un número: \")) ## Se pide un número para establecer un límite al \"while\". Es decir se establece cuántos números primos queremos.\n",
        "\n",
        "cantidad = 0 ## Se establece que el punto de partida para el conteo es cero. Cuenta los numeros primos que llevamos. Es el numero de números que cumplen con ser primos.\n",
        "\n",
        "c = 2 ## Se asigna un valor de 2 a c. Esta \"c\" es otro contador. Éste se necesita para distinguir del contador que va de uno en uno vs el que inicia desde dos. Cuenta los dígitos que avanzamos. Aquí, \"c\" son todos los valores menos el uno.\n",
        "\n",
        "while cantidad < n: ## Se especifica que el bukle \"while\" se detiene hasta el valor de \"n\" donde \"n\" son el total de números primos que queremos.\n",
        "\n",
        "  cont = 0 ## Cuenta cada vez que el residuo sea diferente de cero.\n",
        "\n",
        "  for i in range(2, c): ## Se establece otro bukle que contará a partir del segundo dígito hasta el valor de \"c\" menos uno. \n",
        "    if c%i != 0: ## Se precisa que si el módulo del número \"c\" es difrente de cero, el contador debe avanzar al siguiente número.\n",
        "      cont = cont + 1 \n",
        "\n",
        "  if cont==c-2: ## Se condiciona a que si el contador es el valor de c menos dos, debe mostrarse el valor de \"c\" porque es primo. Dado que es primo, cantodad aumenta en uno, precisamente porque cantidad contabiliza cuántos números primos llevamos...\n",
        "    print(c)\n",
        "    cantidad = cantidad + 1\n",
        "\n",
        "  c = c + 1"
      ]
    },
    {
      "cell_type": "code",
      "execution_count": null,
      "metadata": {
        "id": "DCsu6_OTVWEC",
        "colab": {
          "base_uri": "https://localhost:8080/",
          "height": 53
        },
        "outputId": "2c2459f6-fdf5-47ba-e29c-732498a2011f"
      },
      "outputs": [
        {
          "output_type": "execute_result",
          "data": {
            "text/plain": [
              "'6.3 Ejercicio 3 (1.5 puntos)\\nUna persona adquirió un producto para pagar en 20 meses. El primer mes pagó\\n10 €, el segundo 20 €, el tercero 40 € y así sucesivamente. Realizar un algoritmo\\npara determinar cuánto debe pagar mensualmente y el total de lo que pagó\\ndespués de los 20 meses.'"
            ],
            "application/vnd.google.colaboratory.intrinsic+json": {
              "type": "string"
            }
          },
          "metadata": {},
          "execution_count": 2
        }
      ],
      "source": [
        "\"\"\"6.3 Ejercicio 3 (1.5 puntos)\n",
        "Una persona adquirió un producto para pagar en 20 meses. El primer mes pagó\n",
        "10 €, el segundo 20 €, el tercero 40 € y así sucesivamente. Realizar un algoritmo\n",
        "para determinar cuánto debe pagar mensualmente y el total de lo que pagó\n",
        "después de los 20 meses.\"\"\"\n"
      ]
    },
    {
      "cell_type": "code",
      "source": [
        "total = 0\n",
        "for i in range (1, 21): \n",
        "  if i == 1:\n",
        "    pago = 10  \n",
        "  elif i > 1:\n",
        "    pago = (pago * 2)\n",
        "  total = total + pago\n",
        "  print(\"El total pagado el mes\", i, \"ha sido: \", total)\n",
        "\n"
      ],
      "metadata": {
        "id": "HyDYZXtQSn9Q",
        "colab": {
          "base_uri": "https://localhost:8080/"
        },
        "outputId": "f48f374c-26bd-46e8-b699-181cbe3535ef"
      },
      "execution_count": null,
      "outputs": [
        {
          "output_type": "stream",
          "name": "stdout",
          "text": [
            "El total pagado el mes 1 ha sido:  10\n",
            "El total pagado el mes 2 ha sido:  30\n",
            "El total pagado el mes 3 ha sido:  70\n",
            "El total pagado el mes 4 ha sido:  150\n",
            "El total pagado el mes 5 ha sido:  310\n",
            "El total pagado el mes 6 ha sido:  630\n",
            "El total pagado el mes 7 ha sido:  1270\n",
            "El total pagado el mes 8 ha sido:  2550\n",
            "El total pagado el mes 9 ha sido:  5110\n",
            "El total pagado el mes 10 ha sido:  10230\n",
            "El total pagado el mes 11 ha sido:  20470\n",
            "El total pagado el mes 12 ha sido:  40950\n",
            "El total pagado el mes 13 ha sido:  81910\n",
            "El total pagado el mes 14 ha sido:  163830\n",
            "El total pagado el mes 15 ha sido:  327670\n",
            "El total pagado el mes 16 ha sido:  655350\n",
            "El total pagado el mes 17 ha sido:  1310710\n",
            "El total pagado el mes 18 ha sido:  2621430\n",
            "El total pagado el mes 19 ha sido:  5242870\n",
            "El total pagado el mes 20 ha sido:  10485750\n"
          ]
        }
      ]
    },
    {
      "cell_type": "code",
      "execution_count": null,
      "metadata": {
        "id": "tfPhyXgkpMd2"
      },
      "outputs": [],
      "source": [
        "n = int(input(\"Escriba, por favor, un número: \")) ## Se pide un número para establecer un límite al \"while\". Es decir se establece cuántos números primos queremos.\n"
      ]
    },
    {
      "cell_type": "code",
      "execution_count": null,
      "metadata": {
        "colab": {
          "base_uri": "https://localhost:8080/",
          "height": 53
        },
        "id": "ZduX4XCYVkCV",
        "outputId": "79877e7a-d52e-4324-a5b2-7434e3972f5f"
      },
      "outputs": [
        {
          "data": {
            "application/vnd.google.colaboratory.intrinsic+json": {
              "type": "string"
            },
            "text/plain": [
              "'6.4 Ejercicio 4 (1.5 puntos)\\nCrea una aplicación que pida un número y calcule su factorial (El factorial de un\\nnúmero es el producto de todos los enteros entre 1 y el propio número y se\\nrepresenta por el número seguido de un signo de exclamación. Por ejemplo 5! =\\n1x2x3x4x5=120).'"
            ]
          },
          "execution_count": 73,
          "metadata": {},
          "output_type": "execute_result"
        }
      ],
      "source": [
        "\"\"\"6.4 Ejercicio 4 (1.5 puntos)\n",
        "Crea una aplicación que pida un número y calcule su factorial (El factorial de un\n",
        "número es el producto de todos los enteros entre 1 y el propio número y se\n",
        "representa por el número seguido de un signo de exclamación. Por ejemplo 5! =\n",
        "1x2x3x4x5=120).\"\"\"\n"
      ]
    },
    {
      "cell_type": "code",
      "execution_count": null,
      "metadata": {
        "colab": {
          "base_uri": "https://localhost:8080/"
        },
        "id": "xhdi2v6CkAkD",
        "outputId": "975208f6-c4e8-468c-b070-cd9d9be705c6"
      },
      "outputs": [
        {
          "name": "stdout",
          "output_type": "stream",
          "text": [
            "Escriba, por favor, un número: 9\n",
            "362880\n",
            "None\n"
          ]
        }
      ],
      "source": [
        "fac = int(input(\"Escriba, por favor, un número: \"))\n",
        "def factorial (n):\n",
        "  fac=int(1)\n",
        "  for y in range(1,n+1):\n",
        "    fac=fac*y\n",
        "  print(fac)\n",
        "\n",
        "\n",
        "print(factorial(fac))"
      ]
    },
    {
      "cell_type": "code",
      "source": [],
      "metadata": {
        "id": "WWIggdmjqCPm"
      },
      "execution_count": null,
      "outputs": []
    },
    {
      "cell_type": "code",
      "execution_count": 3,
      "metadata": {
        "id": "6VVRxDUR3M8X"
      },
      "outputs": [],
      "source": [
        "import os\n",
        "import math\n",
        "import numpy\n",
        "import random\n",
        "import matplotlib.pyplot as plt\n",
        "from functools import reduce "
      ]
    },
    {
      "cell_type": "markdown",
      "source": [
        "# Práctica 7. Programación orientada a objetos. (6 puntos)"
      ],
      "metadata": {
        "id": "XGOfKdqC3X-X"
      }
    },
    {
      "cell_type": "markdown",
      "source": [
        "7.1 Ejercicio 1 (2 puntos)\n",
        "Vamos a crear una clase llamada Persona. Sus atributos son: nombre, edad y\n",
        "DNI. Construye los siguientes métodos para la clase:\n",
        "- Un constructor, donde los datos pueden estar vacíos.\n",
        "- Los setters y getters para cada uno de los atributos. Hay que validar las\n",
        "entradas de datos (que la edad sea más de 18 años y que el dni sea de 9 caracteres).\n",
        "- mostrar(): Muestra los datos de la persona.\n",
        "- esMayorDeEdad(): Devuelve un valor lógico indicando si es mayor de edad."
      ],
      "metadata": {
        "id": "uFsgyVsD3mWA"
      }
    },
    {
      "cell_type": "code",
      "source": [
        "#Respuesta\n",
        "class persona: \n",
        "  def __init__(self, nombre, edad, dni):\n",
        "    self.nombre = nombre\n",
        "    self.edad = edad\n",
        "    self.dni = dni\n",
        "  \n",
        "  @property\n",
        "  def edad(self):\n",
        "    return self.__edad\n",
        "\n",
        "  @edad.setter\n",
        "  def edad(self, valor):\n",
        "    if valor > 18:\n",
        "      print(valor)\n",
        "      self.__edad = valor \n",
        "    else:  \n",
        "      print(\"La edad debe ser mayor a 18\")\n",
        "      self.__edad = valor\n",
        "\n",
        "  @property\n",
        "  def dni(self):\n",
        "    return self.__dni\n",
        "\n",
        "  @dni.setter\n",
        "  def dni(self, dni):\n",
        "    if len(dni) == 9:\n",
        "      print(dni)\n",
        "      self.__dni = dni \n",
        "    else:  \n",
        "      print(\"El dni debe tener una extensión de al menos nueve caracteres.\")\n",
        "      self.__dni = dni   "
      ],
      "metadata": {
        "id": "u5GziD5So128"
      },
      "execution_count": null,
      "outputs": []
    },
    {
      "cell_type": "code",
      "source": [
        "##Instancio el objeto\n",
        "p1=persona(\"María\", 30, \"12345678Z\")"
      ],
      "metadata": {
        "id": "x6Wb6oX3pYjL",
        "colab": {
          "base_uri": "https://localhost:8080/"
        },
        "outputId": "1f2fbef1-82ae-4532-de29-48eddaaeb2e5"
      },
      "execution_count": null,
      "outputs": [
        {
          "output_type": "stream",
          "name": "stdout",
          "text": [
            "30\n",
            "12345678Z\n"
          ]
        }
      ]
    },
    {
      "cell_type": "code",
      "source": [
        "p2=persona(\"Ana\", 9, \"1234567Z\")"
      ],
      "metadata": {
        "colab": {
          "base_uri": "https://localhost:8080/"
        },
        "id": "EwXr4XjN56Bg",
        "outputId": "0db32842-16a2-4797-d486-2116ec71a2eb"
      },
      "execution_count": null,
      "outputs": [
        {
          "output_type": "stream",
          "name": "stdout",
          "text": [
            "La edad debe ser mayor a 18\n",
            "El dni debe tener una extensión de al menos nueve caracteres.\n"
          ]
        }
      ]
    },
    {
      "cell_type": "markdown",
      "source": [
        "7.2 Ejercicio 2 (2 puntos)\n",
        "Crea una clase llamada Cuenta que tendrá los siguientes atributos: titular (que es\n",
        "una persona) y cantidad (puede tener decimales). El titular será obligatorio y la\n",
        "cantidad es opcional. Construye los siguientes métodos para la clase:\n",
        "- Un constructor, donde los datos pueden estar vacíos.\n",
        "- Los setters y getters para cada uno de los atributos. El atributo no se puede\n",
        "modificar directamente, sólo ingresando o retirando dinero.\n",
        "- mostrar(): Muestra los datos de la cuenta.\n",
        "- ingresar(cantidad): se ingresa una cantidad a la cuenta, si la cantidad\n",
        "introducida es negativa, no se hará nada.\n",
        "- retirar(cantidad): se retira una cantidad a la cuenta. La cuenta puede estar\n",
        "en números rojos."
      ],
      "metadata": {
        "id": "Afppun5-3vUO"
      }
    },
    {
      "cell_type": "code",
      "source": [
        "#Respuesta\n",
        "## Esto es la instanciación i.e., el constructor. Aquí está la clase. \n",
        "class ctabk: \n",
        "  def __init__(self, titular, cantidad):\n",
        "    self.titular = titular\n",
        "    self.cantidad = cantidad\n",
        "  \n",
        "  def mostrar(self):\n",
        "    print(self.titular)\n",
        "    print(self.cantidad)\n",
        "\n",
        "  def retirar(self, valor):\n",
        "    self.cantidad = self.cantidad-valor \n",
        "  \n",
        "  def ingresar(self, valor):\n",
        "    self.cantidad = self.cantidad+valor "
      ],
      "metadata": {
        "id": "Yno8C2j4EIgt"
      },
      "execution_count": null,
      "outputs": []
    },
    {
      "cell_type": "code",
      "source": [
        "## Aquí instancio el objeto, i.e., AQUÍ ESTOY CREANDO EL OBJETO.\n",
        "c1=ctabk(\"Luis\", 10000)"
      ],
      "metadata": {
        "id": "nStTeF4Sjr6c"
      },
      "execution_count": null,
      "outputs": []
    },
    {
      "cell_type": "code",
      "source": [
        "## AQUÍ LLAMO EL MÉTODO (CON PARÉNTESIS) SI LLAMO AL ATIBUTO, LO HAGO SIN PARÉNTESIS\n",
        "c1.mostrar()"
      ],
      "metadata": {
        "colab": {
          "base_uri": "https://localhost:8080/"
        },
        "id": "AEnTjst0Ao8w",
        "outputId": "7fa4d02c-f28c-4ea9-f673-e2e79dc9d816"
      },
      "execution_count": null,
      "outputs": [
        {
          "output_type": "stream",
          "name": "stdout",
          "text": [
            "Luis\n",
            "10000\n"
          ]
        }
      ]
    },
    {
      "cell_type": "code",
      "source": [
        "##  AQUÍ LLAMO EL MÉTODO RETIRAR \n",
        "c1.retirar(500)"
      ],
      "metadata": {
        "id": "gB81P7v0DCjh"
      },
      "execution_count": null,
      "outputs": []
    },
    {
      "cell_type": "code",
      "source": [
        "## AQUÍ LLAMO MOSTRAR Y ME PRESENTA LA CONSECUECIA  DE LO QUE APLIQUÉ ANERIORMENTE. \n",
        "c1.mostrar()"
      ],
      "metadata": {
        "colab": {
          "base_uri": "https://localhost:8080/"
        },
        "id": "jLW0PSWNDCPB",
        "outputId": "d5cff131-2c58-42bc-a531-e301f22eb074"
      },
      "execution_count": null,
      "outputs": [
        {
          "output_type": "stream",
          "name": "stdout",
          "text": [
            "Luis\n",
            "9500\n"
          ]
        }
      ]
    },
    {
      "cell_type": "code",
      "source": [
        "c1.ingresar(1000)"
      ],
      "metadata": {
        "id": "nR8wPQnZDl80"
      },
      "execution_count": null,
      "outputs": []
    },
    {
      "cell_type": "code",
      "source": [
        "c1.mostrar()"
      ],
      "metadata": {
        "colab": {
          "base_uri": "https://localhost:8080/"
        },
        "id": "Nl2DkcOFEwRL",
        "outputId": "3730ec7c-fc62-4071-b940-5d2e0364920c"
      },
      "execution_count": null,
      "outputs": [
        {
          "output_type": "stream",
          "name": "stdout",
          "text": [
            "Luis\n",
            "10500\n"
          ]
        }
      ]
    },
    {
      "cell_type": "markdown",
      "source": [
        "7.3 Ejercicio 3 (2 puntos)\n",
        "Vamos a definir ahora una “Cuenta Joven”, para ello vamos a crear una nueva\n",
        "clase Cuenta Joven que deriva de la anterior. Cuando se crea esta nueva clase,\n",
        "además del titular y la cantidad se debe guardar una bonificación que estará\n",
        "expresada en tanto por ciento.Construye los siguientes métodos para la clase:\n",
        "- Un constructor.\n",
        "- Los setters y getters para el nuevo atributo.\n",
        "- En esta ocasión los titulares de este tipo de cuenta tienen que ser mayor de\n",
        "edad, por lo tanto hay que crear un método es Titular Válido () que\n",
        "devuelve verdadero si el titular es mayor de edad pero menor de 25 años y\n",
        "falso en caso contrario.\n",
        "- Además la retirada de dinero sólo se podrá hacer si el titular es válido.\n",
        "- El método mostrar() debe devolver el mensaje de “Cuenta Joven” y la\n",
        "bonificación de la cuenta.\n",
        "- Piensa los métodos heredados de la clase madre que hay que reescribir."
      ],
      "metadata": {
        "id": "N4pAMdK935Eo"
      }
    },
    {
      "cell_type": "code",
      "source": [
        "class ctajvn: \n",
        "  def __init__(self, titular, cantidad):\n",
        "    self.titular = titular\n",
        "    self.cantidad = cantidad\n",
        "  \n",
        "  def mostrar(self):\n",
        "    print(self.titular)\n",
        "    print(self.cantidad)\n",
        "\n",
        "  def retirar(self, valor):\n",
        "    self.cantidad = self.cantidad-valor \n",
        "  \n",
        "  def ingresar(self, valor):\n",
        "    self.cantidad = self.cantidad+valor "
      ],
      "metadata": {
        "id": "ixpwAKvp9Qpg"
      },
      "execution_count": 4,
      "outputs": []
    },
    {
      "cell_type": "markdown",
      "source": [
        "# Práctica 8. (6 puntos)"
      ],
      "metadata": {
        "id": "vWNCwlw33_hQ"
      }
    },
    {
      "cell_type": "code",
      "source": [
        "\"\"\"\n",
        "8.1 Ejercicio 1 (2 puntos)\n",
        "Escribe un programa python que pida un número por teclado y que cree un\n",
        "diccionario cuyas claves sean desde el número 1 hasta el número indicado, y los\n",
        "valores sean los cuadrados de las claves.\n",
        "Respuesta:\n",
        "\"\"\""
      ],
      "metadata": {
        "id": "FTBsfolo4BsH"
      },
      "execution_count": null,
      "outputs": []
    },
    {
      "cell_type": "code",
      "source": [
        "cuadrado = {}\n",
        "num = int(input(\"Por favor, introduzca un numero cuyo cuadrado será calculado: \"))\n",
        "\n",
        "for i in range(0,num):\n",
        "    cuadrado[num] = num ** 2\n",
        "\n",
        "for num, valor in cuadrado.items():\n",
        "    print(\"El número introducido y su respectivo cuadrado son: \", (num,valor))\n"
      ],
      "metadata": {
        "colab": {
          "base_uri": "https://localhost:8080/"
        },
        "id": "_XTsNOLgXO78",
        "outputId": "aced844a-75a6-4cb3-de38-2bc49e6fda20"
      },
      "execution_count": null,
      "outputs": [
        {
          "output_type": "stream",
          "name": "stdout",
          "text": [
            "Por favor, introduzca un numero cuyo cuadrado será calculado: 2\n",
            "El número introducido y su respectivo cuadrado son:  (2, 4)\n"
          ]
        }
      ]
    },
    {
      "cell_type": "code",
      "source": [
        "\"\"\"\n",
        "8.2 Ejercicio 2 (2 puntos)\n",
        "Escribe un programa que lea una cadena y devuelva un diccionario con la\n",
        "cantidad de apariciones de cada carácter en la cadena.\n",
        "Respuesta:\n",
        "\"\"\""
      ],
      "metadata": {
        "id": "lvKAEEAz4Bue"
      },
      "execution_count": null,
      "outputs": []
    },
    {
      "cell_type": "code",
      "source": [
        "dict = {}\n",
        "cadena = input(\"Por favor, escriba una cadena de caracteres, es decir una palabra:\")\n",
        "\n",
        "for caracter in cadena:\n",
        "\tif caracter in dict:\n",
        "\t\tdict[caracter]+=1\n",
        "\telse:\n",
        "\t\tdict[caracter]=1\n",
        " \n",
        "for clave,valor in dict.items():\n",
        "\tprint(\"Este caracter\", clave, \"aparece\" , valor, \"veces.\")\n"
      ],
      "metadata": {
        "colab": {
          "base_uri": "https://localhost:8080/"
        },
        "id": "ynBLjmWrkSto",
        "outputId": "06423e70-e716-4737-b1a4-ba8d44dabc0b"
      },
      "execution_count": null,
      "outputs": [
        {
          "output_type": "stream",
          "name": "stdout",
          "text": [
            "Por favor, escriba una cadena de caracteres, es decir una palabra:roxana\n",
            "Este caracter r aparece 1 veces.\n",
            "Este caracter o aparece 1 veces.\n",
            "Este caracter x aparece 1 veces.\n",
            "Este caracter a aparece 2 veces.\n",
            "Este caracter n aparece 1 veces.\n"
          ]
        }
      ]
    },
    {
      "cell_type": "code",
      "source": [
        "\"\"\"\n",
        "8.3 Ejercicio 3 (2 puntos)\n",
        "Vamos a crear un programa en python donde vamos a declarar un diccionario para\n",
        "guardar los precios de las distintas frutas. El programa pedirá el nombre de la fruta\n",
        "y la cantidad que se ha vendido y nos mostrará el precio final de la fruta a partir de\n",
        "los datos guardados en el diccionario. Si la fruta no existe nos dará un error. Tras\n",
        "cada consulta el programa nos preguntará si queremos hacer otra consulta.\n",
        "Respuesta:\n",
        "\"\"\"\n"
      ],
      "metadata": {
        "id": "kITT8Zr04Bw9"
      },
      "execution_count": null,
      "outputs": []
    },
    {
      "cell_type": "code",
      "source": [
        "precios = {\"tuna\": 15, \"papaya\": 15, \"platano\": 10, \"guayaba\": 20}\n",
        "while True:\n",
        "    fruta = input(\"Dime la fruta que has vendido:\")\n",
        "    if fruta.lower() not in precios:\n",
        "        print(\"Fruta no existe.\")\n",
        "    else:\n",
        "        cantidad = int(input(\"Dime la cantidad de frutas que has vendido:\"))\n",
        "        print(\"El precio es de %f\" % (cantidad * precios[fruta]))\n",
        "    opcion = input(\"¿Quieres vender otra fruta (s/n)\")\n",
        "    while opcion.lower() != \"s\" and opcion.lower() != \"n\":\n",
        "        opcion = input(\"¿Quieres vender otra fruta (s/n)\")\n",
        "    if opcion.lower() == \"n\":\n",
        "        break"
      ],
      "metadata": {
        "id": "Q0wB6zUGv3_t",
        "colab": {
          "base_uri": "https://localhost:8080/"
        },
        "outputId": "ca5a3e27-943d-421e-8c2b-bc0898728818"
      },
      "execution_count": 6,
      "outputs": [
        {
          "name": "stdout",
          "output_type": "stream",
          "text": [
            "Dime la fruta que has vendido:tuna\n",
            "Dime la cantidad de frutas que has vendido:6\n",
            "El precio es de 90.000000\n",
            "¿Quieres vender otra fruta (s/n)s\n",
            "Dime la fruta que has vendido:guayaba\n",
            "Dime la cantidad de frutas que has vendido:2\n",
            "El precio es de 40.000000\n",
            "¿Quieres vender otra fruta (s/n)n\n"
          ]
        }
      ]
    },
    {
      "cell_type": "markdown",
      "source": [
        "# Práctica 9. Programación funcional. (6 puntos)"
      ],
      "metadata": {
        "id": "9IuuFoY-4RJ4"
      }
    },
    {
      "cell_type": "code",
      "source": [
        "\"\"\"\n",
        "9.1 Ejercicio 1 (2 puntos)\n",
        "Realice un programa que pregunte aleatoriamente una multiplicación. El programa\n",
        "debe indicar si la respuesta ha sido correcta o no (en caso que la respuesta sea\n",
        "incorrecta el programa debe indicar cuál es la correcta). El programa preguntará\n",
        "10 multiplicaciones, y al finalizar mostrará el número de aciertos.\n",
        "Respuesta:\n",
        "\"\"\"\n"
      ],
      "metadata": {
        "id": "Ee6Um6br4SJY"
      },
      "execution_count": null,
      "outputs": []
    },
    {
      "cell_type": "code",
      "source": [
        "##Como parte de la programación funcional, al emplear una fución superior, se hace que una función reciva otra función y/o devuelva otras funciones.\n",
        "\n",
        "def cuadrado(a):\n",
        " return a**0.5\n",
        "\n",
        "l = [random.randint(0,10) for i in range (10)]\n",
        "print(l)"
      ],
      "metadata": {
        "colab": {
          "base_uri": "https://localhost:8080/"
        },
        "id": "hte763iQW_66",
        "outputId": "7781915f-6808-4864-bf5f-6cae9fb6bcf8"
      },
      "execution_count": null,
      "outputs": [
        {
          "output_type": "stream",
          "name": "stdout",
          "text": [
            "[10, 7, 7, 2, 0, 0, 6, 1, 10, 3]\n"
          ]
        }
      ]
    },
    {
      "cell_type": "code",
      "source": [
        "list(map(cuadrado,l))"
      ],
      "metadata": {
        "colab": {
          "base_uri": "https://localhost:8080/"
        },
        "id": "1vwukrOoaedu",
        "outputId": "7a40b14c-17d2-4e45-e409-e6a1f2266cd1"
      },
      "execution_count": null,
      "outputs": [
        {
          "output_type": "execute_result",
          "data": {
            "text/plain": [
              "[3.1622776601683795,\n",
              " 2.6457513110645907,\n",
              " 2.6457513110645907,\n",
              " 1.4142135623730951,\n",
              " 0.0,\n",
              " 0.0,\n",
              " 2.449489742783178,\n",
              " 1.0,\n",
              " 3.1622776601683795,\n",
              " 1.7320508075688772]"
            ]
          },
          "metadata": {},
          "execution_count": 15
        }
      ]
    },
    {
      "cell_type": "code",
      "source": [
        "cuadrado(100)"
      ],
      "metadata": {
        "colab": {
          "base_uri": "https://localhost:8080/"
        },
        "id": "dty0UhsqYh8G",
        "outputId": "35717497-9965-49bb-aebc-c6303b3ea943"
      },
      "execution_count": null,
      "outputs": [
        {
          "output_type": "execute_result",
          "data": {
            "text/plain": [
              "10.0"
            ]
          },
          "metadata": {},
          "execution_count": 11
        }
      ]
    },
    {
      "cell_type": "code",
      "source": [
        "\"\"\"\n",
        "9.2 Ejercicio 2 (2 puntos)\n",
        "Obtener el cuadrado de todos los elementos en la lista.\n",
        "Lista: 1,2,3,4,5,6,7,8,9,10\n",
        "Respuesta:\n",
        "\"\"\"\n"
      ],
      "metadata": {
        "id": "0r7LBgod4SLn"
      },
      "execution_count": null,
      "outputs": []
    },
    {
      "cell_type": "code",
      "source": [
        "def cuadrado(a):\n",
        " return a**2\n",
        "\n",
        "l2 = [1, 2, 3, 4, 5, 6, 7, 8, 9, 10]\n",
        "print(l2)"
      ],
      "metadata": {
        "colab": {
          "base_uri": "https://localhost:8080/"
        },
        "id": "VDc0eayxh2nG",
        "outputId": "383e7b8b-75c9-40b0-9027-9c402ffcf2e8"
      },
      "execution_count": null,
      "outputs": [
        {
          "output_type": "stream",
          "name": "stdout",
          "text": [
            "[1, 2, 3, 4, 5, 6, 7, 8, 9, 10]\n"
          ]
        }
      ]
    },
    {
      "cell_type": "code",
      "source": [
        "list(map(cuadrado,l2))"
      ],
      "metadata": {
        "colab": {
          "base_uri": "https://localhost:8080/"
        },
        "id": "1QV8Qlehje0L",
        "outputId": "b72071a2-984f-41a8-b5ef-517dc0e8eaba"
      },
      "execution_count": null,
      "outputs": [
        {
          "output_type": "execute_result",
          "data": {
            "text/plain": [
              "[1, 4, 9, 16, 25, 36, 49, 64, 81, 100]"
            ]
          },
          "metadata": {},
          "execution_count": 52
        }
      ]
    },
    {
      "cell_type": "code",
      "source": [
        "\"\"\"\n",
        "9.3 Ejercicio 3 (2 puntos)\n",
        "Obtener la cantidad de elementos mayores a 5 en la tupla.\n",
        "tupla = (5,2,6,7,8,10,77,55,2,1,30,4,2,3)\n",
        "Respuesta:\n",
        "\"\"\"\n"
      ],
      "metadata": {
        "id": "bGNK8cR04SON",
        "colab": {
          "base_uri": "https://localhost:8080/",
          "height": 36
        },
        "outputId": "2b0476a6-2a3d-44d2-bc3a-5367b81948ba"
      },
      "execution_count": null,
      "outputs": [
        {
          "output_type": "execute_result",
          "data": {
            "text/plain": [
              "'\\n9.3 Ejercicio 3 (2 puntos)\\nObtener la cantidad de elementos mayores a 5 en la tupla.\\ntupla = (5,2,6,7,8,10,77,55,2,1,30,4,2,3)\\nRespuesta:\\n'"
            ],
            "application/vnd.google.colaboratory.intrinsic+json": {
              "type": "string"
            }
          },
          "metadata": {},
          "execution_count": 53
        }
      ]
    },
    {
      "cell_type": "code",
      "source": [
        "def qmqcinco(t):\n",
        "  if t > 5:\n",
        "    return True\n"
      ],
      "metadata": {
        "id": "G-zFzbcOjpQk"
      },
      "execution_count": null,
      "outputs": []
    },
    {
      "cell_type": "code",
      "source": [
        "t = (5,2,6,7,8,10,77,55,2,1,30,4,2,3)\n",
        "list(filter(qmqcinco,t))\n"
      ],
      "metadata": {
        "colab": {
          "base_uri": "https://localhost:8080/"
        },
        "id": "Qyt0Py40l8S4",
        "outputId": "c5fd6f32-d165-49d4-f24a-77b09af373e3"
      },
      "execution_count": null,
      "outputs": [
        {
          "output_type": "execute_result",
          "data": {
            "text/plain": [
              "[6, 7, 8, 10, 77, 55, 30]"
            ]
          },
          "metadata": {},
          "execution_count": 56
        }
      ]
    },
    {
      "cell_type": "code",
      "source": [
        "def par(a):\n",
        " if  a%2 != 0:\n",
        "   return False\n",
        " else:\n",
        "   return True\n",
        "\n",
        "l1 = [random.randint(0,10) for i in range (10)]\n",
        "print(l1)"
      ],
      "metadata": {
        "colab": {
          "base_uri": "https://localhost:8080/"
        },
        "id": "N9Nh9qLlbNY3",
        "outputId": "c4158e02-add1-47eb-c0f7-0c5152f20660"
      },
      "execution_count": null,
      "outputs": [
        {
          "output_type": "stream",
          "name": "stdout",
          "text": [
            "[8, 0, 5, 0, 8, 0, 0, 3, 9, 10]\n"
          ]
        }
      ]
    },
    {
      "cell_type": "code",
      "source": [
        "par(6)"
      ],
      "metadata": {
        "colab": {
          "base_uri": "https://localhost:8080/"
        },
        "id": "u9oCsX-2clv-",
        "outputId": "dacff407-6b7a-43ac-e1bf-36d41968ada7"
      },
      "execution_count": null,
      "outputs": [
        {
          "output_type": "execute_result",
          "data": {
            "text/plain": [
              "True"
            ]
          },
          "metadata": {},
          "execution_count": 19
        }
      ]
    },
    {
      "cell_type": "code",
      "source": [
        "list(filter(par,l))"
      ],
      "metadata": {
        "colab": {
          "base_uri": "https://localhost:8080/"
        },
        "id": "EL5qQQcBc-sS",
        "outputId": "ee5bb572-f712-4e8f-8fb6-d46285d20e31"
      },
      "execution_count": null,
      "outputs": [
        {
          "output_type": "execute_result",
          "data": {
            "text/plain": [
              "[10, 2, 0, 0, 6, 10]"
            ]
          },
          "metadata": {},
          "execution_count": 21
        }
      ]
    },
    {
      "cell_type": "code",
      "source": [
        "def par(a):\n",
        " if  a%2 == 0:\n",
        "   return True"
      ],
      "metadata": {
        "id": "kQn7nDYxdqhC"
      },
      "execution_count": null,
      "outputs": []
    },
    {
      "cell_type": "code",
      "source": [
        "list(filter(par,l))"
      ],
      "metadata": {
        "colab": {
          "base_uri": "https://localhost:8080/"
        },
        "id": "aQAoAP6EdyM-",
        "outputId": "cb0a6204-f441-4f07-b7e5-0d656dfd34dd"
      },
      "execution_count": null,
      "outputs": [
        {
          "output_type": "execute_result",
          "data": {
            "text/plain": [
              "[10, 2, 0, 0, 6, 10]"
            ]
          },
          "metadata": {},
          "execution_count": 23
        }
      ]
    },
    {
      "cell_type": "code",
      "source": [
        "\"\"\"\n",
        "9.4 Ejercicio 4 (2 puntos)\n",
        "Obtener la suma de todos los elementos en la lista\n",
        "Respuesta\n",
        "\"\"\"\n"
      ],
      "metadata": {
        "id": "qV7Wv2e14awP"
      },
      "execution_count": null,
      "outputs": []
    },
    {
      "cell_type": "code",
      "source": [
        "## para usar reduce se define que reciba dos valores y regrese uno\n",
        "def sum(a,b):\n",
        "  return(a+b)\n",
        "\n",
        "l3 = [random.randint(0,10) for i in range (10)]\n",
        "print(l3)"
      ],
      "metadata": {
        "colab": {
          "base_uri": "https://localhost:8080/"
        },
        "id": "I6weXR2Fd1iP",
        "outputId": "d4c5c6bd-88a8-4548-c152-38c865be33f8"
      },
      "execution_count": null,
      "outputs": [
        {
          "output_type": "stream",
          "name": "stdout",
          "text": [
            "[3, 6, 1, 0, 3, 3, 1, 4, 1, 0]\n"
          ]
        }
      ]
    },
    {
      "cell_type": "code",
      "source": [
        "sum(3,9)"
      ],
      "metadata": {
        "colab": {
          "base_uri": "https://localhost:8080/"
        },
        "id": "aqWi9IlWe0Rg",
        "outputId": "58e5591b-b6ce-4eff-da6b-555a9d2488e3"
      },
      "execution_count": null,
      "outputs": [
        {
          "output_type": "execute_result",
          "data": {
            "text/plain": [
              "12"
            ]
          },
          "metadata": {},
          "execution_count": 46
        }
      ]
    },
    {
      "cell_type": "code",
      "source": [
        "reduce(sum,l3)"
      ],
      "metadata": {
        "colab": {
          "base_uri": "https://localhost:8080/"
        },
        "id": "MdcgGthKe5es",
        "outputId": "133c7af5-517c-4542-e2d6-c7d8acefe644"
      },
      "execution_count": null,
      "outputs": [
        {
          "output_type": "execute_result",
          "data": {
            "text/plain": [
              "22"
            ]
          },
          "metadata": {},
          "execution_count": 45
        }
      ]
    },
    {
      "cell_type": "code",
      "source": [],
      "metadata": {
        "id": "wY7hv73fDZes"
      },
      "execution_count": null,
      "outputs": []
    },
    {
      "cell_type": "code",
      "execution_count": null,
      "metadata": {
        "id": "WSRr29RSeUso"
      },
      "outputs": [],
      "source": [
        "#AHORCADO\n",
        "import random"
      ]
    },
    {
      "cell_type": "code",
      "source": [
        "d = {6: \"\"\"\n",
        "      ------\n",
        "      |     |\n",
        "      |\n",
        "      |\n",
        "      |\n",
        "      |_____\n",
        " \"\"\",\n",
        " 5:  \"\"\"\n",
        "      ------\n",
        "      |     |\n",
        "      |    (¨)\n",
        "      |\n",
        "      |\n",
        "      |_____\n",
        " \"\"\",\n",
        " 4: \"\"\"\n",
        "      ------\n",
        "      |     |\n",
        "      |    (¨)\n",
        "      |     |\n",
        "      |\n",
        "      |_____\n",
        " \"\"\",\n",
        " 3: \"\"\"\n",
        "      ------\n",
        "      |     |\n",
        "      |    (¨)\n",
        "      |    /|\\\\\n",
        "      |\n",
        "      |_____     \n",
        "  \"\"\",\n",
        "  2: \"\"\"\n",
        "      ------\n",
        "      |     |\n",
        "      |    (¨)\n",
        "      |    /|\\\\\n",
        "      |\n",
        "      |_____\n",
        "  \"\"\",\n",
        "  1:  \"\"\"\n",
        "      ------\n",
        "      |     |\n",
        "      |    (¨)\n",
        "      |    /|\\\\\n",
        "      |     |\n",
        "      |_____\n",
        "  \"\"\",\n",
        "  0:  \"\"\"\n",
        "        ------\n",
        "      |     |\n",
        "      |    (¨)\n",
        "      |    /|\\\\\n",
        "      |     |\n",
        "      |____/ \\\\\n",
        "  \"\"\"}\n",
        "print(d[6])"
      ],
      "metadata": {
        "colab": {
          "base_uri": "https://localhost:8080/"
        },
        "id": "6eI9l7hku-Hc",
        "outputId": "028336da-d779-4fab-bf2a-438db0baae20"
      },
      "execution_count": null,
      "outputs": [
        {
          "output_type": "stream",
          "name": "stdout",
          "text": [
            "\n",
            "      ------\n",
            "      |     |\n",
            "      |\n",
            "      |\n",
            "      |\n",
            "      |_____\n",
            " \n"
          ]
        }
      ]
    },
    {
      "cell_type": "code",
      "source": [
        "palabras = [\"araña\", \"camino\", \"escuela\", \"automovil\", \"flor\", \"mujer\"]\n",
        "palabra = random.choice(palabras)\n",
        "p=[]\n",
        "for i in palabra: \n",
        "  p.append(\"_\") \n",
        "  \n",
        "print(palabra)"
      ],
      "metadata": {
        "colab": {
          "base_uri": "https://localhost:8080/"
        },
        "id": "yevcLzwqC0GO",
        "outputId": "70d3d1c9-3481-48cb-ca3c-5b853c09799c"
      },
      "execution_count": null,
      "outputs": [
        {
          "output_type": "stream",
          "name": "stdout",
          "text": [
            "mujer\n"
          ]
        }
      ]
    },
    {
      "cell_type": "code",
      "source": [
        "print(\"Debe escribir una letra, si está en la palabra se imprimirá, si no, un dibujo de un ahorcado comenzará a trazarse.\")\n",
        "intento=6\n",
        "while intento > 0:\n",
        "  inicio=input(\"Introduzca una letra: \")\n",
        "  if inicio in palabra:\n",
        "    n = inicio\n",
        "    for i in range (0, len(palabra)):\n",
        "      if n == palabra[i]:\n",
        "        p[i]=n\n",
        "  else:\n",
        "    intento=intento-1\n",
        "  print(d[intento])\n",
        "  print(p)\n",
        "\n",
        "  if intento == 0:\n",
        "    print(\"Perdiste, la palabra es:\", palabra)\n",
        "\n",
        "\n",
        "  if \"_\" not in p:  \n",
        "    print(\"¡Felicidades, ganaste!\")\n",
        "    break\n"
      ],
      "metadata": {
        "colab": {
          "base_uri": "https://localhost:8080/",
          "height": 397
        },
        "id": "jVC9MA93j9Qm",
        "outputId": "c45ea1fa-7764-4f46-c09f-a58c4f6ad6f7"
      },
      "execution_count": null,
      "outputs": [
        {
          "output_type": "stream",
          "name": "stdout",
          "text": [
            "Debe escribir una letra, si está en la palabra se imprimirá, si no, un dibujo de un ahorcado comenzará a trazarse.\n"
          ]
        },
        {
          "output_type": "error",
          "ename": "KeyboardInterrupt",
          "evalue": "ignored",
          "traceback": [
            "\u001b[0;31m---------------------------------------------------------------------------\u001b[0m",
            "\u001b[0;31mKeyboardInterrupt\u001b[0m                         Traceback (most recent call last)",
            "\u001b[0;32m<ipython-input-32-bacfafe31a8e>\u001b[0m in \u001b[0;36m<module>\u001b[0;34m\u001b[0m\n\u001b[1;32m      2\u001b[0m \u001b[0mintento\u001b[0m\u001b[0;34m=\u001b[0m\u001b[0;36m6\u001b[0m\u001b[0;34m\u001b[0m\u001b[0;34m\u001b[0m\u001b[0m\n\u001b[1;32m      3\u001b[0m \u001b[0;32mwhile\u001b[0m \u001b[0mintento\u001b[0m \u001b[0;34m>\u001b[0m \u001b[0;36m0\u001b[0m\u001b[0;34m:\u001b[0m\u001b[0;34m\u001b[0m\u001b[0;34m\u001b[0m\u001b[0m\n\u001b[0;32m----> 4\u001b[0;31m   \u001b[0minicio\u001b[0m\u001b[0;34m=\u001b[0m\u001b[0minput\u001b[0m\u001b[0;34m(\u001b[0m\u001b[0;34m\"Introduzca una letra: \"\u001b[0m\u001b[0;34m)\u001b[0m\u001b[0;34m\u001b[0m\u001b[0;34m\u001b[0m\u001b[0m\n\u001b[0m\u001b[1;32m      5\u001b[0m   \u001b[0;32mif\u001b[0m \u001b[0minicio\u001b[0m \u001b[0;32min\u001b[0m \u001b[0mpalabra\u001b[0m\u001b[0;34m:\u001b[0m\u001b[0;34m\u001b[0m\u001b[0;34m\u001b[0m\u001b[0m\n\u001b[1;32m      6\u001b[0m     \u001b[0mn\u001b[0m \u001b[0;34m=\u001b[0m \u001b[0minicio\u001b[0m\u001b[0;34m\u001b[0m\u001b[0;34m\u001b[0m\u001b[0m\n",
            "\u001b[0;32m/usr/local/lib/python3.7/dist-packages/ipykernel/kernelbase.py\u001b[0m in \u001b[0;36mraw_input\u001b[0;34m(self, prompt)\u001b[0m\n\u001b[1;32m    861\u001b[0m             \u001b[0mself\u001b[0m\u001b[0;34m.\u001b[0m\u001b[0m_parent_ident\u001b[0m\u001b[0;34m,\u001b[0m\u001b[0;34m\u001b[0m\u001b[0;34m\u001b[0m\u001b[0m\n\u001b[1;32m    862\u001b[0m             \u001b[0mself\u001b[0m\u001b[0;34m.\u001b[0m\u001b[0m_parent_header\u001b[0m\u001b[0;34m,\u001b[0m\u001b[0;34m\u001b[0m\u001b[0;34m\u001b[0m\u001b[0m\n\u001b[0;32m--> 863\u001b[0;31m             \u001b[0mpassword\u001b[0m\u001b[0;34m=\u001b[0m\u001b[0;32mFalse\u001b[0m\u001b[0;34m,\u001b[0m\u001b[0;34m\u001b[0m\u001b[0;34m\u001b[0m\u001b[0m\n\u001b[0m\u001b[1;32m    864\u001b[0m         )\n\u001b[1;32m    865\u001b[0m \u001b[0;34m\u001b[0m\u001b[0m\n",
            "\u001b[0;32m/usr/local/lib/python3.7/dist-packages/ipykernel/kernelbase.py\u001b[0m in \u001b[0;36m_input_request\u001b[0;34m(self, prompt, ident, parent, password)\u001b[0m\n\u001b[1;32m    902\u001b[0m             \u001b[0;32mexcept\u001b[0m \u001b[0mKeyboardInterrupt\u001b[0m\u001b[0;34m:\u001b[0m\u001b[0;34m\u001b[0m\u001b[0;34m\u001b[0m\u001b[0m\n\u001b[1;32m    903\u001b[0m                 \u001b[0;31m# re-raise KeyboardInterrupt, to truncate traceback\u001b[0m\u001b[0;34m\u001b[0m\u001b[0;34m\u001b[0m\u001b[0;34m\u001b[0m\u001b[0m\n\u001b[0;32m--> 904\u001b[0;31m                 \u001b[0;32mraise\u001b[0m \u001b[0mKeyboardInterrupt\u001b[0m\u001b[0;34m(\u001b[0m\u001b[0;34m\"Interrupted by user\"\u001b[0m\u001b[0;34m)\u001b[0m \u001b[0;32mfrom\u001b[0m \u001b[0;32mNone\u001b[0m\u001b[0;34m\u001b[0m\u001b[0;34m\u001b[0m\u001b[0m\n\u001b[0m\u001b[1;32m    905\u001b[0m             \u001b[0;32mexcept\u001b[0m \u001b[0mException\u001b[0m \u001b[0;32mas\u001b[0m \u001b[0me\u001b[0m\u001b[0;34m:\u001b[0m\u001b[0;34m\u001b[0m\u001b[0;34m\u001b[0m\u001b[0m\n\u001b[1;32m    906\u001b[0m                 \u001b[0mself\u001b[0m\u001b[0;34m.\u001b[0m\u001b[0mlog\u001b[0m\u001b[0;34m.\u001b[0m\u001b[0mwarning\u001b[0m\u001b[0;34m(\u001b[0m\u001b[0;34m\"Invalid Message:\"\u001b[0m\u001b[0;34m,\u001b[0m \u001b[0mexc_info\u001b[0m\u001b[0;34m=\u001b[0m\u001b[0;32mTrue\u001b[0m\u001b[0;34m)\u001b[0m\u001b[0;34m\u001b[0m\u001b[0;34m\u001b[0m\u001b[0m\n",
            "\u001b[0;31mKeyboardInterrupt\u001b[0m: Interrupted by user"
          ]
        }
      ]
    }
  ],
  "metadata": {
    "colab": {
      "collapsed_sections": [],
      "provenance": [],
      "include_colab_link": true
    },
    "kernelspec": {
      "display_name": "Python 3",
      "name": "python3"
    },
    "language_info": {
      "name": "python"
    }
  },
  "nbformat": 4,
  "nbformat_minor": 0
}